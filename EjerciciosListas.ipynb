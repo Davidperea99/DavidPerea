{
  "nbformat": 4,
  "nbformat_minor": 0,
  "metadata": {
    "colab": {
      "provenance": [],
      "authorship_tag": "ABX9TyP+Hj8FxLRnCCQhczNBR/gP",
      "include_colab_link": true
    },
    "kernelspec": {
      "name": "python3",
      "display_name": "Python 3"
    },
    "language_info": {
      "name": "python"
    }
  },
  "cells": [
    {
      "cell_type": "markdown",
      "metadata": {
        "id": "view-in-github",
        "colab_type": "text"
      },
      "source": [
        "<a href=\"https://colab.research.google.com/github/Davidperea99/DavidPerea/blob/main/EjerciciosListas.ipynb\" target=\"_parent\"><img src=\"https://colab.research.google.com/assets/colab-badge.svg\" alt=\"Open In Colab\"/></a>"
      ]
    },
    {
      "cell_type": "code",
      "execution_count": 24,
      "metadata": {
        "id": "S4u3j-p52pt-",
        "colab": {
          "base_uri": "https://localhost:8080/"
        },
        "outputId": "89f79a61-ab92-44a5-8401-e039968598e5"
      },
      "outputs": [
        {
          "output_type": "stream",
          "name": "stdout",
          "text": [
            "Total de vocales: 6\n"
          ]
        }
      ],
      "source": [
        "#EJERCICIO2\n",
        "\n",
        "def contar_vocales(frase):\n",
        "    vocales = ['a', 'e', 'i', 'o', 'u']\n",
        "    contarVocales = {vocal: 0 for vocal in vocales}\n",
        "\n",
        "    for v in frase:\n",
        "        if v in vocales:\n",
        "            contarVocales[v] += 1\n",
        "\n",
        "    total_vocales = sum(contarVocales.values())\n",
        "    print(f\"Total de vocales: {total_vocales}\")\n",
        "\n",
        "\n",
        "frase = \"abecedario\"\n",
        "contar_vocales(frase)\n",
        "\n"
      ]
    },
    {
      "cell_type": "code",
      "source": [],
      "metadata": {
        "id": "OcovjPQ3-3SU"
      },
      "execution_count": null,
      "outputs": []
    },
    {
      "cell_type": "code",
      "source": [
        "#EJERCICIO1\n",
        "\n",
        "abecedario = ['a', 'b', 'c', 'd', 'e', 'f', 'g', 'h', 'i', 'j', 'k', 'l', 'm', 'n', 'o', 'p', 'q', 'r', 's', 't', 'u', 'v', 'w', 'x', 'y', 'z']\n",
        "n = int(input(\"ingrese un numero n: \"))\n",
        "\n",
        "del abecedario[n-1::n]\n",
        "\n",
        "print(\"Lista resultante\", abecedario)"
      ],
      "metadata": {
        "colab": {
          "base_uri": "https://localhost:8080/"
        },
        "id": "dwvAk6JDAfZK",
        "outputId": "94ce62ee-9d51-4bca-ac36-860f2c6a7853"
      },
      "execution_count": 35,
      "outputs": [
        {
          "output_type": "stream",
          "name": "stdout",
          "text": [
            "ingrese un numero n: 2\n",
            "Lista resultante ['a', 'c', 'e', 'g', 'i', 'k', 'm', 'o', 'q', 's', 'u', 'w', 'y']\n"
          ]
        }
      ]
    },
    {
      "cell_type": "code",
      "source": [
        "#EJERCICIO 3\n",
        "\n",
        "frase = \"El mejor regalo? El perdón...\"\n",
        "list_frase = list(frase)\n",
        "print(frase)\n",
        "print(list_frase) #deben jugar con esta lista\n",
        "\n",
        "\n",
        "list_frase = [v for v in list_frase if v not in ['?', '.']]\n",
        "\n",
        "\n",
        "nueva_frase = nueva_frase.replace('regalo', 'perdón')\n",
        "\n",
        "listN = list(nueva_frase)\n",
        "\n",
        "print(listN)\n",
        "listF = listN[0:15]\n",
        "print(listF)\n",
        "\n",
        "nueva_frase = ''.join(listF)\n",
        "\n",
        "\n",
        "\n",
        "##nueva_frase = ''.join(list_frase)\n",
        "##print(list_frase)\n",
        "print(nueva_frase)"
      ],
      "metadata": {
        "colab": {
          "base_uri": "https://localhost:8080/"
        },
        "id": "VpPmzxZAIlDu",
        "outputId": "5f2c7ecb-ea56-484c-da32-0a71021eb26c"
      },
      "execution_count": 48,
      "outputs": [
        {
          "output_type": "stream",
          "name": "stdout",
          "text": [
            "El mejor regalo? El perdón...\n",
            "['E', 'l', ' ', 'm', 'e', 'j', 'o', 'r', ' ', 'r', 'e', 'g', 'a', 'l', 'o', '?', ' ', 'E', 'l', ' ', 'p', 'e', 'r', 'd', 'ó', 'n', '.', '.', '.']\n",
            "['E', 'l', ' ', 'm', 'e', 'j', 'o', 'r', ' ', 'p', 'e', 'r', 'd', 'ó', 'n', ' ', 'E', 'l', ' ', 'p', 'e', 'r', 'd', 'ó', 'n']\n",
            "['E', 'l', ' ', 'm', 'e', 'j', 'o', 'r', ' ', 'p', 'e', 'r', 'd', 'ó', 'n']\n",
            "El mejor perdón\n"
          ]
        }
      ]
    }
  ]
}